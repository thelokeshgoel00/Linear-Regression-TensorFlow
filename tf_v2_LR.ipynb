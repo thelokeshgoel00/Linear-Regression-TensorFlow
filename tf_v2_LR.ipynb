{
 "cells": [
  {
   "cell_type": "code",
   "execution_count": 1,
   "metadata": {},
   "outputs": [],
   "source": [
    "import pandas as pd\n",
    "import numpy as np\n",
    "import tensorflow as tf\n",
    "from sklearn.model_selection import train_test_split"
   ]
  },
  {
   "cell_type": "code",
   "execution_count": 2,
   "metadata": {
    "scrolled": true
   },
   "outputs": [
    {
     "data": {
      "text/html": [
       "<div>\n",
       "<style scoped>\n",
       "    .dataframe tbody tr th:only-of-type {\n",
       "        vertical-align: middle;\n",
       "    }\n",
       "\n",
       "    .dataframe tbody tr th {\n",
       "        vertical-align: top;\n",
       "    }\n",
       "\n",
       "    .dataframe thead th {\n",
       "        text-align: right;\n",
       "    }\n",
       "</style>\n",
       "<table border=\"1\" class=\"dataframe\">\n",
       "  <thead>\n",
       "    <tr style=\"text-align: right;\">\n",
       "      <th></th>\n",
       "      <th>Serial No.</th>\n",
       "      <th>GRE Score</th>\n",
       "      <th>TOEFL Score</th>\n",
       "      <th>University Rating</th>\n",
       "      <th>SOP</th>\n",
       "      <th>LOR</th>\n",
       "      <th>CGPA</th>\n",
       "      <th>Research</th>\n",
       "      <th>Chance of Admit</th>\n",
       "    </tr>\n",
       "  </thead>\n",
       "  <tbody>\n",
       "    <tr>\n",
       "      <th>0</th>\n",
       "      <td>1</td>\n",
       "      <td>337</td>\n",
       "      <td>118</td>\n",
       "      <td>4</td>\n",
       "      <td>4.5</td>\n",
       "      <td>4.5</td>\n",
       "      <td>9.65</td>\n",
       "      <td>1</td>\n",
       "      <td>0.92</td>\n",
       "    </tr>\n",
       "    <tr>\n",
       "      <th>1</th>\n",
       "      <td>2</td>\n",
       "      <td>324</td>\n",
       "      <td>107</td>\n",
       "      <td>4</td>\n",
       "      <td>4.0</td>\n",
       "      <td>4.5</td>\n",
       "      <td>8.87</td>\n",
       "      <td>1</td>\n",
       "      <td>0.76</td>\n",
       "    </tr>\n",
       "    <tr>\n",
       "      <th>2</th>\n",
       "      <td>3</td>\n",
       "      <td>316</td>\n",
       "      <td>104</td>\n",
       "      <td>3</td>\n",
       "      <td>3.0</td>\n",
       "      <td>3.5</td>\n",
       "      <td>8.00</td>\n",
       "      <td>1</td>\n",
       "      <td>0.72</td>\n",
       "    </tr>\n",
       "    <tr>\n",
       "      <th>3</th>\n",
       "      <td>4</td>\n",
       "      <td>322</td>\n",
       "      <td>110</td>\n",
       "      <td>3</td>\n",
       "      <td>3.5</td>\n",
       "      <td>2.5</td>\n",
       "      <td>8.67</td>\n",
       "      <td>1</td>\n",
       "      <td>0.80</td>\n",
       "    </tr>\n",
       "    <tr>\n",
       "      <th>4</th>\n",
       "      <td>5</td>\n",
       "      <td>314</td>\n",
       "      <td>103</td>\n",
       "      <td>2</td>\n",
       "      <td>2.0</td>\n",
       "      <td>3.0</td>\n",
       "      <td>8.21</td>\n",
       "      <td>0</td>\n",
       "      <td>0.65</td>\n",
       "    </tr>\n",
       "  </tbody>\n",
       "</table>\n",
       "</div>"
      ],
      "text/plain": [
       "   Serial No.  GRE Score  TOEFL Score  University Rating  SOP  LOR   CGPA  \\\n",
       "0           1        337          118                  4  4.5   4.5  9.65   \n",
       "1           2        324          107                  4  4.0   4.5  8.87   \n",
       "2           3        316          104                  3  3.0   3.5  8.00   \n",
       "3           4        322          110                  3  3.5   2.5  8.67   \n",
       "4           5        314          103                  2  2.0   3.0  8.21   \n",
       "\n",
       "   Research  Chance of Admit   \n",
       "0         1              0.92  \n",
       "1         1              0.76  \n",
       "2         1              0.72  \n",
       "3         1              0.80  \n",
       "4         0              0.65  "
      ]
     },
     "execution_count": 2,
     "metadata": {},
     "output_type": "execute_result"
    }
   ],
   "source": [
    "data = pd.read_csv('Datasets/graduate-admissions/Admission_Predict_Ver1.1.csv')\n",
    "data.head()"
   ]
  },
  {
   "cell_type": "code",
   "execution_count": 3,
   "metadata": {},
   "outputs": [],
   "source": [
    "continuous_features = data[['CGPA']].values\n",
    "categorical_research_features = data[ [ 'Research' ] ].values"
   ]
  },
  {
   "cell_type": "code",
   "execution_count": 4,
   "metadata": {},
   "outputs": [],
   "source": [
    "X = np.concatenate([continuous_features,],axis=1)\n",
    "Y = data[['Chance of Admit ']].values"
   ]
  },
  {
   "cell_type": "code",
   "execution_count": 5,
   "metadata": {},
   "outputs": [],
   "source": [
    "train_features , test_features ,train_labels, test_labels = train_test_split( X , Y , test_size=0.2 )"
   ]
  },
  {
   "cell_type": "code",
   "execution_count": 6,
   "metadata": {},
   "outputs": [],
   "source": [
    "X = tf.constant( train_features , dtype=tf.float32 )\n",
    "Y = tf.constant( train_labels , dtype=tf.float32 ) "
   ]
  },
  {
   "cell_type": "code",
   "execution_count": 7,
   "metadata": {},
   "outputs": [],
   "source": [
    "test_X = tf.constant( test_features , dtype=tf.float32 ) \n",
    "test_Y = tf.constant( test_labels , dtype=tf.float32 ) "
   ]
  },
  {
   "cell_type": "code",
   "execution_count": 8,
   "metadata": {},
   "outputs": [],
   "source": [
    "def mean_squared_error( Y , y_pred ):\n",
    "    return tf.reduce_mean( tf.square( y_pred - Y ) )\n",
    "\n",
    "def mean_squared_error_deriv( Y , y_pred ):\n",
    "    return tf.reshape( tf.reduce_mean( 2 * ( y_pred - Y ) ) , [ 1 , 1 ] )\n",
    "    \n",
    "def h ( X , weights , bias ):\n",
    "    return tf.tensordot( X , weights , axes=1 ) + bias"
   ]
  },
  {
   "cell_type": "code",
   "execution_count": 9,
   "metadata": {},
   "outputs": [],
   "source": [
    "num_epochs = 100\n",
    "num_samples = X.shape[0]\n",
    "batch_size = 10\n",
    "learning_rate = 0.001\n",
    "\n",
    "dataset = tf.data.Dataset.from_tensor_slices((X,Y))\n",
    "dataset = dataset.shuffle(500).repeat(num_epochs).batch(batch_size)\n",
    "iterator = dataset.__iter__()"
   ]
  },
  {
   "cell_type": "code",
   "execution_count": 10,
   "metadata": {},
   "outputs": [
    {
     "name": "stdout",
     "output_type": "stream",
     "text": [
      "Loss is 6.755967617034912\n",
      "Loss is 0.009115485474467278\n",
      "Loss is 0.009132610633969307\n",
      "Loss is 0.009098891168832779\n",
      "Loss is 0.009107118472456932\n",
      "Loss is 0.00910294521600008\n",
      "Loss is 0.009145637974143028\n",
      "Loss is 0.009081226773560047\n",
      "Loss is 0.009131932631134987\n",
      "Loss is 0.00909249298274517\n",
      "Loss is 0.00904613547027111\n",
      "Loss is 0.009104236960411072\n",
      "Loss is 0.009097863920032978\n",
      "Loss is 0.009119682013988495\n",
      "Loss is 0.009146308526396751\n",
      "Loss is 0.009104455821216106\n",
      "Loss is 0.009092080406844616\n",
      "Loss is 0.00911649502813816\n",
      "Loss is 0.00906780082732439\n",
      "Loss is 0.009123330004513264\n",
      "Loss is 0.009089578874409199\n",
      "Loss is 0.009022913873195648\n",
      "Loss is 0.009202192537486553\n",
      "Loss is 0.009108895435929298\n",
      "Loss is 0.009116074070334435\n",
      "Loss is 0.009158903732895851\n",
      "Loss is 0.009144380688667297\n",
      "Loss is 0.009022438898682594\n",
      "Loss is 0.009156739339232445\n",
      "Loss is 0.009095225483179092\n",
      "Loss is 0.009049389511346817\n",
      "Loss is 0.009106585755944252\n",
      "Loss is 0.009117882698774338\n",
      "Loss is 0.00909229926764965\n",
      "Loss is 0.009047254920005798\n",
      "Loss is 0.009063923731446266\n",
      "Loss is 0.009058870375156403\n",
      "Loss is 0.009099533781409264\n",
      "Loss is 0.009202723391354084\n",
      "Loss is 0.009099081158638\n",
      "Loss is 0.009087947197258472\n",
      "Loss is 0.009042920544743538\n",
      "Loss is 0.00908573530614376\n",
      "Loss is 0.009048499166965485\n",
      "Loss is 0.009072345681488514\n",
      "Loss is 0.00908419955521822\n",
      "Loss is 0.009191608056426048\n",
      "Loss is 0.009107242338359356\n",
      "Loss is 0.009126188233494759\n",
      "Loss is 0.009029990062117577\n",
      "Loss is 0.00905076414346695\n",
      "Loss is 0.009105755016207695\n",
      "Loss is 0.009170705452561378\n",
      "Loss is 0.009093127213418484\n",
      "Loss is 0.009090885519981384\n",
      "Loss is 0.00906035490334034\n",
      "Loss is 0.009055416099727154\n",
      "Loss is 0.009081000462174416\n",
      "Loss is 0.009084954857826233\n",
      "Loss is 0.00912562943994999\n",
      "Loss is 0.009099689312279224\n",
      "Loss is 0.00909222662448883\n",
      "Loss is 0.009062256664037704\n",
      "Loss is 0.00908711738884449\n",
      "Loss is 0.009105031378567219\n",
      "Loss is 0.009087175130844116\n",
      "Loss is 0.009077798575162888\n",
      "Loss is 0.009119433350861073\n",
      "Loss is 0.009091557003557682\n",
      "Loss is 0.009062491357326508\n",
      "Loss is 0.00908564031124115\n",
      "Loss is 0.009092804975807667\n",
      "Loss is 0.00907112192362547\n",
      "Loss is 0.00907302275300026\n",
      "Loss is 0.009087293408811092\n",
      "Loss is 0.00903631467372179\n",
      "Loss is 0.009094104170799255\n",
      "Loss is 0.00908818282186985\n",
      "Loss is 0.009076014161109924\n",
      "Loss is 0.009135591797530651\n",
      "Loss is 0.0090875755995512\n",
      "Loss is 0.009027877822518349\n",
      "Loss is 0.009116394445300102\n",
      "Loss is 0.009074357338249683\n",
      "Loss is 0.009123573079705238\n",
      "Loss is 0.009041687473654747\n",
      "Loss is 0.00910127442330122\n",
      "Loss is 0.00904477946460247\n",
      "Loss is 0.009027455933392048\n",
      "Loss is 0.009078623726963997\n",
      "Loss is 0.009095525369048119\n",
      "Loss is 0.0090994443744421\n",
      "Loss is 0.009095286950469017\n",
      "Loss is 0.009048603475093842\n",
      "Loss is 0.009103326126933098\n",
      "Loss is 0.009062300436198711\n",
      "Loss is 0.009143680334091187\n",
      "Loss is 0.009142736904323101\n",
      "Loss is 0.009162791073322296\n",
      "Loss is 0.00911503005772829\n"
     ]
    }
   ],
   "source": [
    "num_features = X.shape[1]\n",
    "weights = tf.random.normal((num_features,1))\n",
    "bias = 0\n",
    "\n",
    "epochs_plot = list()\n",
    "loss_plot = list()\n",
    "\n",
    "for i in range(num_epochs):\n",
    "    epoch_loss = list()\n",
    "    for b in range(int(num_samples/batch_size)):\n",
    "        x_batch,y_batch = iterator.get_next()\n",
    "        \n",
    "        output = h(x_batch, weights, bias )\n",
    "        loss = epoch_loss.append(mean_squared_error(y_batch,output).numpy())\n",
    "        dJ_dH = mean_squared_error_deriv( y_batch , output)\n",
    "        dH_dW = x_batch\n",
    "        dJ_dW = tf.reduce_mean( dJ_dH * dH_dW )\n",
    "        dJ_dB = tf.reduce_mean( dJ_dH )\n",
    "        \n",
    "        weights -= ( learning_rate * dJ_dW )\n",
    "        bias -= ( learning_rate * dJ_dB ) \n",
    "    loss = np.array( epoch_loss ).mean()\n",
    "    epochs_plot.append( i + 1 )\n",
    "    loss_plot.append( loss )\n",
    "    \n",
    "    print( 'Loss is {}'.format( loss ) ) "
   ]
  },
  {
   "cell_type": "code",
   "execution_count": 11,
   "metadata": {},
   "outputs": [
    {
     "data": {
      "image/png": "[encoded data removed]",
      "text/plain": [
       "<Figure size 432x288 with 1 Axes>"
      ]
     },
     "metadata": {
      "needs_background": "light"
     },
     "output_type": "display_data"
    }
   ],
   "source": [
    "import matplotlib.pyplot as plt\n",
    "plt.plot( epochs_plot , loss_plot ) \n",
    "plt.show()"
   ]
  },
  {
   "cell_type": "code",
   "execution_count": 12,
   "metadata": {},
   "outputs": [
    {
     "name": "stdout",
     "output_type": "stream",
     "text": [
      "Mean Absolute Error = 0.0716073289513588\n"
     ]
    }
   ],
   "source": [
    "output = h( test_X , weights , bias ) \n",
    "labels = test_Y\n",
    "\n",
    "accuracy_op = tf.metrics.MeanAbsoluteError() \n",
    "accuracy_op.update_state( labels , output )\n",
    "print( 'Mean Absolute Error = {}'.format( accuracy_op.result().numpy() ) )\n"
   ]
  },
  {
   "cell_type": "code",
   "execution_count": 18,
   "metadata": {},
   "outputs": [
    {
     "data": {
      "image/png": "[encoded data removed]",
      "text/plain": [
       "<Figure size 432x288 with 1 Axes>"
      ]
     },
     "metadata": {
      "needs_background": "light"
     },
     "output_type": "display_data"
    }
   ],
   "source": [
    "plt.scatter(X,Y)\n",
    "x = np.linspace(6.5,10,100)\n",
    "y = (weights[0])*x+bias\n",
    "plt.plot(x,y,'-r')\n",
    "plt.show()"
   ]
  },
  {
   "cell_type": "code",
   "execution_count": 14,
   "metadata": {},
   "outputs": [
    {
     "name": "stdout",
     "output_type": "stream",
     "text": [
      "Mean Absolute Error = 0.0716073289513588\n"
     ]
    }
   ],
   "source": [
    "output = h( test_X , weights , bias ) \n",
    "labels = test_Y\n",
    "\n",
    "accuracy_op = tf.metrics.MeanAbsoluteError() \n",
    "accuracy_op.update_state( labels , output )\n",
    "print( 'Mean Absolute Error = {}'.format( accuracy_op.result().numpy() ) )\n"
   ]
  },
  {
   "cell_type": "code",
   "execution_count": null,
   "metadata": {},
   "outputs": [],
   "source": []
  }
 ],
 "metadata": {
  "kernelspec": {
   "display_name": "myvenv",
   "language": "python",
   "name": "myvenv"
  },
  "language_info": {
   "codemirror_mode": {
    "name": "ipython",
    "version": 3
   },
   "file_extension": ".py",
   "mimetype": "text/x-python",
   "name": "python",
   "nbconvert_exporter": "python",
   "pygments_lexer": "ipython3",
   "version": "3.6.9"
  }
 },
 "nbformat": 4,
 "nbformat_minor": 4
}
