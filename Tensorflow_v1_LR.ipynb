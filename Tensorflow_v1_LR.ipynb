{
 "cells": [
  {
   "cell_type": "code",
   "execution_count": null,
   "metadata": {},
   "outputs": [],
   "source": [
    "import numpy as np\n",
    "import tensorflow as tf\n",
    "import matplotlib.pyplot as plt"
   ]
  },
  {
   "cell_type": "code",
   "execution_count": null,
   "metadata": {},
   "outputs": [],
   "source": [
    "def generate_dataset():\n",
    "    x_batch = np.linspace(0,10,1000)\n",
    "    y_batch = 1.5 * x_batch + np.random.randn(x_batch.shape[0])*0.6 + 0.5\n",
    "    return x_batch,y_batch"
   ]
  },
  {
   "cell_type": "code",
   "execution_count": null,
   "metadata": {},
   "outputs": [],
   "source": [
    "x_batch , y_batch = generate_dataset()"
   ]
  },
  {
   "cell_type": "code",
   "execution_count": null,
   "metadata": {},
   "outputs": [],
   "source": [
    "plt.scatter(x_batch,y_batch)"
   ]
  },
  {
   "cell_type": "code",
   "execution_count": null,
   "metadata": {},
   "outputs": [],
   "source": [
    "def linear_regression():\n",
    "    x = tf.placeholder(tf.float32,shape = (None,),name='x')\n",
    "    y = tf.placeholder(tf.float32, shape = (None,), name = 'y')\n",
    "    \n",
    "    with tf.variable_scope('lreg') as scope:\n",
    "        w = tf.Variable(np.random.normal(),name='W')\n",
    "        b = tf.Variable(np.random.normal(),name='b')\n",
    "        y_pred = tf.add(tf.multiply(w,x),b)\n",
    "        \n",
    "        loss = tf.reduce_mean(tf.square(y_pred-y))\n",
    "        \n",
    "    return x,y,y_pred,loss"
   ]
  },
  {
   "cell_type": "code",
   "execution_count": null,
   "metadata": {},
   "outputs": [],
   "source": []
  },
  {
   "cell_type": "code",
   "execution_count": null,
   "metadata": {},
   "outputs": [],
   "source": [
    "def run():\n",
    "    x_batch, y_batch = generate_dataset()\n",
    "    x, y, y_pred, loss = linear_regression()\n",
    "\n",
    "    optimizer = tf.train.GradientDescentOptimizer(0.1)\n",
    "    train_op = optimizer.minimize(loss)\n",
    "\n",
    "    with tf.Session() as session:\n",
    "        session.run(tf.global_variables_initializer())\n",
    "        feed_dict = {x: x_batch, y: y_batch}\n",
    "\t\t\n",
    "        for i in range(30):\n",
    "            session.run(train_op, feed_dict)\n",
    "            print(i, \"loss:\", loss.eval(feed_dict))\n",
    "\n",
    "        print('Predicting')\n",
    "        y_pred_batch = session.run(y_pred, {x : x_batch})\n",
    "\n",
    "    plt.scatter(x_batch, y_batch)\n",
    "    plt.plot(x_batch, y_pred_batch, color='red')\n",
    "    plt.xlim(0, 2)\n",
    "    plt.ylim(0, 2)"
   ]
  },
  {
   "cell_type": "code",
   "execution_count": null,
   "metadata": {},
   "outputs": [],
   "source": [
    "run()"
   ]
  },
  {
   "cell_type": "code",
   "execution_count": null,
   "metadata": {},
   "outputs": [],
   "source": []
  }
 ],
 "metadata": {
  "kernelspec": {
   "display_name": "myvenv",
   "language": "python",
   "name": "myvenv"
  },
  "language_info": {
   "codemirror_mode": {
    "name": "ipython",
    "version": 3
   },
   "file_extension": ".py",
   "mimetype": "text/x-python",
   "name": "python",
   "nbconvert_exporter": "python",
   "pygments_lexer": "ipython3",
   "version": "3.6.9"
  }
 },
 "nbformat": 4,
 "nbformat_minor": 4
}
